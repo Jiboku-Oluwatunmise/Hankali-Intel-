{
 "cells": [
  {
   "cell_type": "code",
   "execution_count": 1,
   "id": "c091c55e",
   "metadata": {},
   "outputs": [],
   "source": [
    "import requests\n",
    "from bs4 import BeautifulSoup"
   ]
  },
  {
   "cell_type": "code",
   "execution_count": 2,
   "id": "fdb97f13",
   "metadata": {},
   "outputs": [],
   "source": [
    "import lxml"
   ]
  },
  {
   "cell_type": "code",
   "execution_count": 3,
   "id": "adb26106",
   "metadata": {},
   "outputs": [],
   "source": [
    "html_text = requests.get('https://www.jumia.com.ng/android-phones/samsung/#catalog-listing')"
   ]
  },
  {
   "cell_type": "code",
   "execution_count": 4,
   "id": "81149702",
   "metadata": {},
   "outputs": [],
   "source": [
    "soup = BeautifulSoup(html_text.text, 'lxml')"
   ]
  },
  {
   "cell_type": "code",
   "execution_count": 5,
   "id": "47764b12",
   "metadata": {},
   "outputs": [
    {
     "data": {
      "text/plain": [
       "200"
      ]
     },
     "execution_count": 5,
     "metadata": {},
     "output_type": "execute_result"
    }
   ],
   "source": [
    "html_text.status_code"
   ]
  },
  {
   "cell_type": "code",
   "execution_count": 19,
   "id": "4f3ab381",
   "metadata": {},
   "outputs": [],
   "source": [
    "samsung = soup.find_all('h3', class_='name')"
   ]
  },
  {
   "cell_type": "code",
   "execution_count": 20,
   "id": "f4ae5657",
   "metadata": {},
   "outputs": [
    {
     "name": "stdout",
     "output_type": "stream",
     "text": [
      "[<h3 class=\"name\">Samsung Galaxy A03s - 3/32GB Memory, Triple Rear Camera, Dual SIM, 5,000Mah Battery, Fingerprint, 4G LTE - Black</h3>, <h3 class=\"name\">Samsung Galaxy A12 - 6.5\" 48MP Camera, 4/128GB Memory, 5000maH Battery, Fingerprint, 4G LTE - BLACK</h3>, <h3 class=\"name\">Samsung Galaxy A03 Core - 6.5\" (2GB RAM, 32GB ROM) Android 11 - 8MP Rear + 5MP Selfie - 5000mAh - Dual Sim - 4G LTE - Blue</h3>, <h3 class=\"name\">Samsung Galaxy S9 5.8'' Inch QHD 2 Sim (duel Sim)( 4GB + 64GB ROM ) 12MP+8MP _ Midnight Black</h3>, <h3 class=\"name\">Samsung Galaxy A12, 6.5-inches (4GB RAM, 64GB ROM) Android 10 (48/5/2/2)MP + 8MP Selfie - 4G LTE - 5000mAh Battery - Blue</h3>, <h3 class=\"name\">Samsung Galaxy A12(A125F/DS)- 6.5\" 48MP Camera, 4/128GB Memory, 5000maH Battery, Fingerprint, 4G LTE - BLACK</h3>, <h3 class=\"name\">Samsung Galaxy S8 5.8-Inch QHD (4GB,64GB ROM) 12MP + 8MP 4G LTE Smartphone ( 2 Sim ) DUAL Sim -  Blue</h3>, <h3 class=\"name\">Samsung Galaxy Note 9 6.4\" (6GB RAM, 128GB ROM), Android 8.1 Oreo, 12MP + 12MP SINGLE    SIM - Purple</h3>, <h3 class=\"name\">Samsung Galaxy A32 (128GB + 6GB RAM) 6.4\" FHD + 4 Rear Camera (64+8+5+5)MP+ 20MP, 5000mAh, Dual SIM 4G LTE - Awesome Black</h3>, <h3 class=\"name\">Samsung Galaxy A12(D/SIM)- 6.5\" 48MP Camera, 4/128GB Memory, 5000maH Battery, Fingerprint, 4G LTE - BLACK</h3>, <h3 class=\"name\">Samsung Galaxy S9 + (plus)Dual SIM (6GB,64GB ROM Android 8.0 Oreo. Sunrise Gold</h3>, <h3 class=\"name\">Samsung Galaxy S9 Plus - Dual Sim - 6GB RAM - 64GB ROM Black.</h3>, <h3 class=\"name\">Samsung Galaxy A22, 6.4\" (4GB RAM, 64GB ROM) Android 11 (48/8/2/2)MP + 13MP Selfie - Dual SIM - 4G - 5000mAh - Black</h3>, <h3 class=\"name\">Samsung Galaxy S9 5.8'' Inch QHD  2 Sim (duel Sim)( 4GB + 64GB ROM ) 12MP+8MP _ Midnight Black</h3>, <h3 class=\"name\">Samsung Galaxy Z Flip3 5G, 6.7-Inch 8GB RAM, 128GB ROM, Android 11 12MP + 12MP) + 10MP Nano SIM - Phantom Black</h3>, <h3 class=\"name\">Samsung Galaxy A02 - 6.5\", 2/32GB Memory, 13MP Camera, Dual SIM, 5,000Mah Battery, 4G LTE - Red</h3>, <h3 class=\"name\">Samsung Galaxy A12(DUAL -SIM)- 6.5\" 48MP Camera, 4/64GB Memory, 5000maH Battery, Fingerprint, 4G LTE - BLUE</h3>, <h3 class=\"name\">Samsung Galaxy S10 Plus (S10+) 6.4-Inch AMOLED (8GB, 128GB ROM) (12MP + 12MP + 16MP)+(10MP+8MP) 4G Smartphone - Black</h3>, <h3 class=\"name\">Samsung Galaxy A03 Core - 6.5\" (2GB RAM, 32GB ROM) Android 11 - 8MP Rear + 5MP Selfie - 5000mAh - Dual Sim - 4G LTE - Black</h3>, <h3 class=\"name\">Samsung Fast Charger + FREE Black Earpiece And Charger Cord Cable For Samsung USB Type C Data Cable,</h3>, <h3 class=\"name\">Samsung Galaxy S9 + (plus)Dual SIM (6GB,64GB ROM Android 8.0 Oreo. Midnight Black</h3>, <h3 class=\"name\">Samsung Galaxy A03 Core - 6.5\" (2GB RAM, 32GB ROM) Android 11 - 8MP Rear + 5MP Selfie - 5000mAh - Dual Sim - 4G LTE - Black</h3>, <h3 class=\"name\">Samsung Galaxy A22 - 6.4\" HD+ Super AMOLED Screen, 4GB/64GB Storage, 48/8/2/2MP Camera, 5,000 Mah Battery 4G LTE - Black</h3>, <h3 class=\"name\">Samsung Galaxy Note 10 Plus (Note 10+) 6.8-Inch (12GB RAM, 256GB ROM), (12MP + 16MP) SINGLE SIM 4,300 MAh Smartphone - Aura Glow</h3>, <h3 class=\"name\">Samsung Galaxy M12, 6.5 Inch 4GB RAM, 64GB ROM ,Android 11. (48MP + 5MP + 2MP + 2MP) + 8MP Dual SIM - Blue</h3>, <h3 class=\"name\">Samsung Galaxy Note 9 6.4\" (6GB RAM, 128GB ROM), Android 8.1 Oreo, 12MP + 12MP SINGLE    SIM - Purple</h3>, <h3 class=\"name\">Samsung Galaxy S9 5.8-Inch QHD (4GB, 64GB ROM) Android 8.0 Oreo, 12MP + 8MP Single SIM 4G Smartphone - Midnight Black</h3>, <h3 class=\"name\">Samsung Galaxy Note 20 Ultra-4G-Dual Sim-6.9''-256GB+12GB Ram-12MP Telephoto, 12MP Ultrawide,108MP Wide,10MP Front-Mystic Black</h3>, <h3 class=\"name\">Samsung Galaxy S10 Plus (S10+) 6.4-Inch AMOLED (8GB, 128GB ROM) (12MP + 12MP + 16MP)+(10MP+8MP) 4G Smartphone - Black</h3>, <h3 class=\"name\">Samsung Galaxy Tab A7 Lite 8.0\" (2021, WiFi + Cellular) Android 11 (32GB+3GB RAM) 5100mAh Battery, 4G LTE ,- Grey</h3>, <h3 class=\"name\">Samsung Galaxy Note 9 6.4-Inch (6GB RAM, 128GB ROM) (12MP + 12MP) LTE - Midnight Black</h3>, <h3 class=\"name\">Samsung Galaxy S9 Plus - Single Sim - 6GB RAM - 64GB ROM + Free Pouch, Screen Protector &amp; Bluetooth Earpiece</h3>, <h3 class=\"name\">Samsung Galaxy A22, 6.4-Inch 4GB RAM, 128GB Android 11 (48MP + 8MP + 2MP + 2MP) + 13MP Dual SIM - Violet</h3>, <h3 class=\"name\">Samsung GALAXY S21 PLUS - 5G (256GB ROM, 8GB RAM) Dual Sim - PHANTOM BLACK</h3>, <h3 class=\"name\">Samsung Galaxy Note 10 Single Sim Black + Standard Back Case &amp; Screen Protector</h3>, <h3 class=\"name\">Samsung Galaxy A03s, 6.5-Inch (3GB RAM, 32GB ROM) Android 11, (13MP + 2MP + 2MP) + 5MP 4G, Fingerprint, Dual SIM - Blue</h3>, <h3 class=\"name\">Samsung Galaxy S8 Plus - Dual Sim - 4GB RAM - 64GB ROM + Free Pouch &amp; Screen Guide, Car Charger</h3>, <h3 class=\"name\">Samsung Galaxy Note 8 - Dual Sim - 6gb Ram - 64gb Rom + Free Pouch Screen Guide, Modem</h3>, <h3 class=\"name\">Samsung Galaxy S9 5.8'' Inch QHD ( 4GB + 64GB ROM ) 12MP+8MP _ Midnight Black + Free Back Case &amp; Screen Protector</h3>, <h3 class=\"name\">Samsung Galaxy S9 5.8'' Inch QHD Single Sim ( 4GB + 64GB ROM ) 12MP+8MP _ Midnight Black + Free Bluetooth Earpiece</h3>, <h3 class=\"name\"></h3>, <h3 class=\"name\"></h3>, <h3 class=\"name\"></h3>, <h3 class=\"name\"></h3>, <h3 class=\"name\"></h3>, <h3 class=\"name\"></h3>, <h3 class=\"name\"></h3>, <h3 class=\"name\"></h3>]\n"
     ]
    }
   ],
   "source": [
    "print(samsung)"
   ]
  },
  {
   "cell_type": "code",
   "execution_count": null,
   "id": "b541c34c",
   "metadata": {},
   "outputs": [],
   "source": []
  }
 ],
 "metadata": {
  "kernelspec": {
   "display_name": "Python 3 (ipykernel)",
   "language": "python",
   "name": "python3"
  },
  "language_info": {
   "codemirror_mode": {
    "name": "ipython",
    "version": 3
   },
   "file_extension": ".py",
   "mimetype": "text/x-python",
   "name": "python",
   "nbconvert_exporter": "python",
   "pygments_lexer": "ipython3",
   "version": "3.9.7"
  }
 },
 "nbformat": 4,
 "nbformat_minor": 5
}
