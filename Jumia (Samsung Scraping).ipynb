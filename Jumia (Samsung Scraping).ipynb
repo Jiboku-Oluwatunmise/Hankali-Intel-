{
 "cells": [
  {
   "cell_type": "code",
   "execution_count": 1,
   "id": "886a99bc",
   "metadata": {},
   "outputs": [],
   "source": [
    "import requests\n",
    "from bs4 import BeautifulSoup\n",
    "import pandas as pd"
   ]
  },
  {
   "cell_type": "code",
   "execution_count": 2,
   "id": "e9a641a8",
   "metadata": {},
   "outputs": [],
   "source": [
    "website = requests.get(\"https://www.jumia.com.ng/phones-tablets/samsung/?q=samsung+phones\")"
   ]
  },
  {
   "cell_type": "code",
   "execution_count": 3,
   "id": "52cb4c53",
   "metadata": {},
   "outputs": [],
   "source": [
    "soup = BeautifulSoup(website.content, 'html.parser') "
   ]
  },
  {
   "cell_type": "code",
   "execution_count": 6,
   "id": "90072124",
   "metadata": {},
   "outputs": [],
   "source": [
    "samsung_phone = soup.find('div', class_=\"-paxs row _no-g _4cl-3cm-shs\")"
   ]
  },
  {
   "cell_type": "code",
   "execution_count": 9,
   "id": "ff3f279b",
   "metadata": {},
   "outputs": [],
   "source": [
    "idle_phone = samsung_phone.find_all('div', class_='info')"
   ]
  },
  {
   "cell_type": "code",
   "execution_count": 10,
   "id": "beaa9e61",
   "metadata": {},
   "outputs": [
    {
     "name": "stdout",
     "output_type": "stream",
     "text": [
      "[<div class=\"info\"><div class=\"tag _mall _sm\">Official Store</div><h3 class=\"name\">Samsung Galaxy A12 - 6.5\" 48MP Camera, 4/64GB Memory, 5000maH Battery, Fingerprint, 4G LTE - BLACK</h3><div class=\"prc\">₦ 76,602</div><div class=\"s-prc-w\"><div class=\"old\">₦ 83,898</div><div class=\"tag _dsct _sm\">9%</div></div><div class=\"rev\"><div class=\"stars _s\">4.4 out of 5<div class=\"in\" style=\"width:88.00000000000001%\"></div></div>(398)</div><svg aria-label=\"Express Shipping\" class=\"ic xprss\" height=\"10\" viewbox=\"0 0 114 12\" width=\"94\"><use xlink:href=\"https://www.jumia.com.ng/assets_he/images/i-shop-jumia.c8de1c55.svg#express\"></use></svg><p class=\"shipp\">Jumia Express items in your order will be delivered for free (Lagos &amp; Abuja only, excluding large items)</p></div>, <div class=\"info\"><div class=\"tag _mall _sm\">Official Store</div><h3 class=\"name\">Samsung Galaxy A12 - 6.5\" 48MP Camera, 4/64GB Memory, 5000maH Battery, Fingerprint, 4G LTE - RED</h3><div class=\"prc\">₦ 79,000</div><div class=\"rev\"><div class=\"stars _s\">4.4 out of 5<div class=\"in\" style=\"width:88.00000000000001%\"></div></div>(233)</div><svg aria-label=\"Express Shipping\" class=\"ic xprss\" height=\"10\" viewbox=\"0 0 114 12\" width=\"94\"><use xlink:href=\"https://www.jumia.com.ng/assets_he/images/i-shop-jumia.c8de1c55.svg#express\"></use></svg><p class=\"shipp\">Jumia Express items in your order will be delivered for free (Lagos &amp; Abuja only, excluding large items)</p></div>, <div class=\"info\"><div class=\"tag _mall _sm\">Official Store</div><h3 class=\"name\">Samsung Galaxy A03 Core, 2/32GB, 6.5\" Screen, 5000mah, 8MP Camera - Black</h3><div class=\"prc\">₦ 49,000</div><div class=\"s-prc-w\"><div class=\"old\">₦ 56,000</div><div class=\"tag _dsct _sm\">13%</div></div><svg aria-label=\"Express Shipping\" class=\"ic xprss\" height=\"10\" viewbox=\"0 0 114 12\" width=\"94\"><use xlink:href=\"https://www.jumia.com.ng/assets_he/images/i-shop-jumia.c8de1c55.svg#express\"></use></svg><p class=\"shipp\">Jumia Express items in your order will be delivered for free (Lagos &amp; Abuja only, excluding large items)</p></div>, <div class=\"info\"><h3 class=\"name\">Samsung Galaxy A02 - 3/64GB Memory, Dual Rear Camera, Dual SIM, 5,000Mah Battery, 4G LTE - Blue</h3><div class=\"prc\">₦ 61,999</div><div class=\"s-prc-w\"><div class=\"old\">₦ 70,000</div><div class=\"tag _dsct _sm\">11%</div></div><div class=\"rev\"><div class=\"stars _s\">4.6 out of 5<div class=\"in\" style=\"width:91.99999999999999%\"></div></div>(14)</div></div>, <div class=\"info\"><h3 class=\"name\">Samsung Galaxy A03s - 4/64GB Memory, Triple Rear Camera, Dual SIM, 5,000Mah Battery, Fingerprint, 4G LTE - Black</h3><div class=\"prc\">₦ 74,500</div><div class=\"s-prc-w\"><div class=\"old\">₦ 77,000</div><div class=\"tag _dsct _sm\">3%</div></div><div class=\"rev\"><div class=\"stars _s\">5 out of 5<div class=\"in\" style=\"width:100%\"></div></div>(1)</div></div>, <div class=\"info\"><div class=\"tag _mall _sm\">Official Store</div><h3 class=\"name\">Samsung Galaxy A03 Core - 6.5\" (2GB RAM, 32GB ROM) Android 11 - 8MP Rear + 5MP Selfie - 5000mAh - Dual Sim - 4G LTE - Black</h3><div class=\"prc\">₦ 52,990</div><div class=\"s-prc-w\"><div class=\"old\">₦ 60,000</div><div class=\"tag _dsct _sm\">12%</div></div><div class=\"rev\"><div class=\"stars _s\">2 out of 5<div class=\"in\" style=\"width:40%\"></div></div>(1)</div></div>, <div class=\"info\"><h3 class=\"name\">Samsung Galaxy A02 - 2/32GB Memory, Dual Rear Camera, Dual SIM, 5,000Mah Battery, 4G LTE - Red</h3><div class=\"prc\">₦ 54,400</div><div class=\"s-prc-w\"><div class=\"old\">₦ 60,000</div><div class=\"tag _dsct _sm\">9%</div></div><div class=\"rev\"><div class=\"stars _s\">5 out of 5<div class=\"in\" style=\"width:100%\"></div></div>(1)</div></div>, <div class=\"info\"><h3 class=\"name\">Samsung Galaxy Note 10 Plus (Note 10+) 6.8'' (12GB RAM, 256GB ROM),(12MP + 16MP) Nano SIM 4300 MAh Smart - Aura</h3><div class=\"prc\">₦ 280,000</div><div class=\"s-prc-w\"><div class=\"old\">₦ 380,000</div><div class=\"tag _dsct _sm\">26%</div></div><div class=\"rev\"><div class=\"stars _s\">5 out of 5<div class=\"in\" style=\"width:100%\"></div></div>(1)</div></div>, <div class=\"info\"><h3 class=\"name\">Samsung Galaxy S9 (4GBRAM+64GBROM) HD Display 4G LTE -Black. With Free Tempered Glass.</h3><div class=\"prc\">₦ 110,000</div><div class=\"rev\"><div class=\"stars _s\">5 out of 5<div class=\"in\" style=\"width:100%\"></div></div>(5)</div></div>, <div class=\"info\"><h3 class=\"name\">Samsung Galaxy S9 Plus - Dual Sim - 6GB RAM - 64GB ROM Black.</h3><div class=\"prc\">₦ 150,000</div><div class=\"s-prc-w\"><div class=\"old\">₦ 155,000</div><div class=\"tag _dsct _sm\">3%</div></div><div class=\"rev\"><div class=\"stars _s\">3.3 out of 5<div class=\"in\" style=\"width:66%\"></div></div>(3)</div></div>, <div class=\"info\"><h3 class=\"name\">Samsung Galaxy S9 Plus (S9+) 6.2-Inch QHD (6GB, 64GB) Android 9.0  4G LTE Smartphone Midnight Black-with Free Tempered Glass.</h3><div class=\"prc\">₦ 130,000</div><div class=\"rev\"><div class=\"stars _s\">5 out of 5<div class=\"in\" style=\"width:100%\"></div></div>(2)</div></div>, <div class=\"info\"><h3 class=\"name\">Samsung Galaxy A12(A125F/DS)- 6.5\" 48MP Camera, 4/64GB Memory, 5000maH Battery, Fingerprint, 4G LTE - BLACK</h3><div class=\"prc\">₦ 83,990</div><div class=\"s-prc-w\"><div class=\"old\">₦ 89,501</div><div class=\"tag _dsct _sm\">6%</div></div><p class=\"mpg\" data-prc=\"₦ 83,990\" data-tot=\"56\">offers from</p><div class=\"rev\"><div class=\"stars _s\">4.5 out of 5<div class=\"in\" style=\"width:90%\"></div></div>(399)</div></div>, <div class=\"info\"><h3 class=\"name\">Samsung Galaxy M32 - 6.5\" (6GB RAM, 128GB ROM) Android 11 (48/8/5/2)MP + 13MP Selfie - 5000mAh - 5G - Dual Sim - Sky Blue</h3><div class=\"prc\">₦ 155,000</div></div>, <div class=\"info\"><h3 class=\"name\">Samsung Galaxy Note 10 Plus (Note 10+) 6.8'' (12GB RAM, 256GB ROM),(12MP + 16MP) Nano SIM 4300 MAh Smart - Aura</h3><div class=\"prc\">₦ 275,000</div><div class=\"s-prc-w\"><div class=\"old\">₦ 350,000</div><div class=\"tag _dsct _sm\">21%</div></div></div>, <div class=\"info\"><h3 class=\"name\">Samsung Galaxy S8 4gb Ram 64gb Rom , Android 8.0 Smartphone+ Free Screen Protector-black.</h3><div class=\"prc\">₦ 98,000</div><div class=\"rev\"><div class=\"stars _s\">5 out of 5<div class=\"in\" style=\"width:100%\"></div></div>(2)</div></div>, <div class=\"info\"><h3 class=\"name\">Samsung Galaxy A11 - 6.4\" (2GB RAM, 32GB ROM) Android 10 (13/5/2)MP + 8MP Selfie - 4000mAh - 4G LTE - Dual - Fingerprint -Black</h3><div class=\"prc\">₦ 65,000</div><div class=\"s-prc-w\"><div class=\"old\">₦ 84,699</div><div class=\"tag _dsct _sm\">23%</div></div><div class=\"rev\"><div class=\"stars _s\">5 out of 5<div class=\"in\" style=\"width:100%\"></div></div>(1)</div></div>, <div class=\"info\"><div class=\"tag _glb _sm\">Shipped from abroad</div><h3 class=\"name\">Samsung Galaxy Note Edge 5.6\" 4G LTE Mobile Phone 16MP RAM 3GB ROM 32GB - White</h3><div class=\"prc\">₦ 59,890</div><div class=\"s-prc-w\"><div class=\"old\">₦ 59,900</div><div class=\"tag _dsct _sm\">1%</div></div><div class=\"rev\"><div class=\"stars _s\">3.7 out of 5<div class=\"in\" style=\"width:74%\"></div></div>(16)</div></div>, <div class=\"info\"><h3 class=\"name\">Samsung Galaxy A22, 6.4\" (4GB RAM, 128GB ROM) Android 11  - Dual SIM - 4G - 5000mAh - Black</h3><div class=\"prc\">₦ 129,500</div></div>, <div class=\"info\"><div class=\"tag _mall _sm\">Official Store</div><h3 class=\"name\">Samsung Galaxy A03 Core - 6.5\" (2GB RAM, 32GB ROM) Android 11 - 8MP Rear + 5MP Selfie - 5000mAh - Dual Sim - 4G LTE - Blue</h3><div class=\"prc\">₦ 52,990</div><div class=\"s-prc-w\"><div class=\"old\">₦ 58,990</div><div class=\"tag _dsct _sm\">10%</div></div></div>, <div class=\"info\"><h3 class=\"name\">Samsung Galaxy S7 Edge 5.5\" (4GB, 32GB ROM) 12MP + 5MP Dual Sim - Gold +Free Pouch</h3><div class=\"prc\">₦ 85,000</div><div class=\"s-prc-w\"><div class=\"old\">₦ 150,000</div><div class=\"tag _dsct _sm\">43%</div></div><p class=\"mpg\" data-prc=\"₦ 85,000\" data-tot=\"12\">offers from</p><div class=\"rev\"><div class=\"stars _s\">5 out of 5<div class=\"in\" style=\"width:100%\"></div></div>(1)</div></div>, <div class=\"info\"><h3 class=\"name\">Samsung Galaxy Note 9 6.4\" (6GB RAM, 128GB ROM), Android 8.1 Oreo, 12MP + 12MP SINGLE    SIM - Purple</h3><div class=\"prc\">₦ 160,000</div></div>, <div class=\"info\"><h3 class=\"name\">Samsung Galaxy S8 Plus Dual Sim 4gb Ram 64gb Rom + Free Pouch &amp; Screen Guide.</h3><div class=\"prc\">₦ 116,500</div></div>, <div class=\"info\"><h3 class=\"name\">Samsung Galaxy A02 - 2/32GB Memory, Dual Rear Camera, Dual SIM, 5,000Mah Battery, 4G LTE - Black</h3><div class=\"prc\">₦ 54,900</div><div class=\"s-prc-w\"><div class=\"old\">₦ 60,000</div><div class=\"tag _dsct _sm\">9%</div></div><div class=\"rev\"><div class=\"stars _s\">5 out of 5<div class=\"in\" style=\"width:100%\"></div></div>(3)</div></div>, <div class=\"info\"><h3 class=\"name\">Samsung Galaxy S7 Edge 5.5\" (4GB, 32GB ROM) 12MP + 5MP Dual Sim - Gold +Free Pouch</h3><div class=\"prc\">₦ 85,000</div><div class=\"s-prc-w\"><div class=\"old\">₦ 150,000</div><div class=\"tag _dsct _sm\">43%</div></div></div>, <div class=\"info\"><h3 class=\"name\">Samsung Galaxy A02 - 3/64GB Memory, Dual Rear Camera, Dual SIM, 5,000Mah Battery, 4G LTE - Black</h3><div class=\"prc\">₦ 63,900</div><div class=\"s-prc-w\"><div class=\"old\">₦ 70,000</div><div class=\"tag _dsct _sm\">9%</div></div><div class=\"rev\"><div class=\"stars _s\">4.1 out of 5<div class=\"in\" style=\"width:81.99999999999999%\"></div></div>(25)</div></div>, <div class=\"info\"><h3 class=\"name\">Samsung Galaxy Note 10 Plus (Note 10+) 6.8'' (12GB RAM, 256GB ROM),(12MP + 16MP) Nano SIM 4300 MAh Smart - Black</h3><div class=\"prc\">₦ 275,000</div><div class=\"s-prc-w\"><div class=\"old\">₦ 350,000</div><div class=\"tag _dsct _sm\">21%</div></div></div>, <div class=\"info\"><h3 class=\"name\">Samsung Galaxy S9 5.8'' Inch QHD 2 Sim (duel Sim)( 4GB + 64GB ROM ) 12MP+8MP _ Midnight Black</h3><div class=\"prc\">₦ 118,000</div><div class=\"s-prc-w\"><div class=\"old\">₦ 125,000</div><div class=\"tag _dsct _sm\">6%</div></div><div class=\"rev\"><div class=\"stars _s\">4.3 out of 5<div class=\"in\" style=\"width:86%\"></div></div>(10)</div></div>, <div class=\"info\"><div class=\"tag _mall _sm\">Official Store</div><h3 class=\"name\">Samsung Galaxy A02 - 2/32GB Memory, Triple Rear Camera, Dual SIM, 5,000Mah Battery, 4G LTE - Red</h3><div class=\"prc\">₦ 57,000</div><svg aria-label=\"Express Shipping\" class=\"ic xprss\" height=\"10\" viewbox=\"0 0 114 12\" width=\"94\"><use xlink:href=\"https://www.jumia.com.ng/assets_he/images/i-shop-jumia.c8de1c55.svg#express\"></use></svg><p class=\"shipp\">Jumia Express items in your order will be delivered for free (Lagos &amp; Abuja only, excluding large items)</p></div>, <div class=\"info\"><h3 class=\"name\">Samsung Galaxy S8 5.8-Inch QHD (4GB,64GB ROM) 12MP + 8MP 4G LTE Smartphone ( 1Sim ) Single Sim- Black</h3><div class=\"prc\">₦ 97,000</div><div class=\"s-prc-w\"><div class=\"old\">₦ 106,000</div><div class=\"tag _dsct _sm\">8%</div></div><div class=\"rev\"><div class=\"stars _s\">5 out of 5<div class=\"in\" style=\"width:100%\"></div></div>(1)</div></div>, <div class=\"info\"><h3 class=\"name\">Samsung Galaxy S9 - Dual Sim - 4gb Ram - 64gb Rom + Free Pouch &amp; Screen Guide And 10000 MAh Powerbank</h3><div class=\"prc\">₦ 117,000</div></div>, <div class=\"info\"><h3 class=\"name\">Samsung Galaxy S9 + (plus)Dual SIM (6GB,64GB ROM Android 8.0 Oreo. Midnight Black</h3><div class=\"prc\">₦ 129,700</div><div class=\"s-prc-w\"><div class=\"old\">₦ 148,000</div><div class=\"tag _dsct _sm\">12%</div></div><div class=\"rev\"><div class=\"stars _s\">4.5 out of 5<div class=\"in\" style=\"width:90%\"></div></div>(2)</div></div>, <div class=\"info\"><h3 class=\"name\">Samsung Galaxy S8 (4GB RAM,64GB ROM) - Purple With Free Glass</h3><div class=\"prc\">₦ 98,000</div></div>, <div class=\"info\"><h3 class=\"name\">Samsung Galaxy S7 4GB 32GB 5.1Inch 12MP Fingerprint Sensor—Gold</h3><div class=\"prc\">₦ 70,000</div><div class=\"s-prc-w\"><div class=\"old\">₦ 120,000</div><div class=\"tag _dsct _sm\">42%</div></div><div class=\"rev\"><div class=\"stars _s\">3.5 out of 5<div class=\"in\" style=\"width:70%\"></div></div>(2)</div></div>, <div class=\"info\"><h3 class=\"name\">Samsung Galaxy S20 Ultra LTE 128GB (12GB RAM) 5G  1 Sim   Black + Free Pouch &amp; Screen Protector</h3><div class=\"prc\">₦ 370,000</div></div>, <div class=\"info\"><h3 class=\"name\">Samsung Galaxy S7 4GB 32GB 5.1Inch 12MP Fingerprint Sensor—Gold</h3><div class=\"prc\">₦ 70,000</div><div class=\"s-prc-w\"><div class=\"old\">₦ 120,000</div><div class=\"tag _dsct _sm\">42%</div></div><div class=\"rev\"><div class=\"stars _s\">5 out of 5<div class=\"in\" style=\"width:100%\"></div></div>(1)</div></div>, <div class=\"info\"><h3 class=\"name\">Samsung Galaxy S8 5.8-Inch ( 2 Sim )QHD (4GB,64GB ROM) 12MP + 8MP 4G LTE Smartphone DUAL Sim - Midnight Black</h3><div class=\"prc\">₦ 100,000</div><div class=\"s-prc-w\"><div class=\"old\">₦ 120,000</div><div class=\"tag _dsct _sm\">17%</div></div><div class=\"rev\"><div class=\"stars _s\">4.2 out of 5<div class=\"in\" style=\"width:84%\"></div></div>(12)</div></div>, <div class=\"info\"><h3 class=\"name\">Samsung Galaxy S9 5.8-Inch QHD (4GB, 64GB ROM)12MP + 8MP 4G Smartphone Android 8.0 Midnight Black+ Free Screen Protector</h3><div class=\"prc\">₦ 110,000</div><div class=\"rev\"><div class=\"stars _s\">5 out of 5<div class=\"in\" style=\"width:100%\"></div></div>(3)</div></div>, <div class=\"info\"><h3 class=\"name\">Samsung Galaxy S10 - Single Sim - 8gb Ram - 128gb Rom + Free Pouch, Screen Guide &amp; Torchlight Button Phone</h3><div class=\"prc\">₦ 190,000</div><div class=\"s-prc-w\"><div class=\"old\">₦ 200,000</div><div class=\"tag _dsct _sm\">5%</div></div><div class=\"rev\"><div class=\"stars _s\">3 out of 5<div class=\"in\" style=\"width:60%\"></div></div>(1)</div></div>, <div class=\"info\"><h3 class=\"name\">Samsung Galaxy S9 - Single Sim - 4gb Ram - 64gb Rom + Free Pouch &amp; Screen Guide, Rechargeable Light</h3><div class=\"prc\">₦ 111,000</div></div>, <div class=\"info\"><h3 class=\"name\">Samsung Note 8 6.3-Inch QHD (6GB,64GB ROM), (12MP + 12MP) + 8MP 4G LTE Smartphone Single Sim - Blue +Free Pouch</h3><div class=\"prc\">₦ 130,000</div><div class=\"s-prc-w\"><div class=\"old\">₦ 200,000</div><div class=\"tag _dsct _sm\">35%</div></div></div>, <div class=\"info\"><h3 class=\"name\"></h3><div class=\"prc\"></div></div>, <div class=\"info\"><h3 class=\"name\"></h3><div class=\"prc\"></div></div>, <div class=\"info\"><h3 class=\"name\"></h3><div class=\"prc\"></div></div>, <div class=\"info\"><h3 class=\"name\"></h3><div class=\"prc\"></div></div>, <div class=\"info\"><h3 class=\"name\"></h3><div class=\"prc\"></div></div>, <div class=\"info\"><h3 class=\"name\"></h3><div class=\"prc\"></div></div>, <div class=\"info\"><h3 class=\"name\"></h3><div class=\"prc\"></div></div>, <div class=\"info\"><h3 class=\"name\"></h3><div class=\"prc\"></div></div>]\n"
     ]
    }
   ],
   "source": [
    "print(idle_phone)"
   ]
  },
  {
   "cell_type": "code",
   "execution_count": 11,
   "id": "cb873260",
   "metadata": {},
   "outputs": [],
   "source": [
    "samsung_name = samsung_phone.find_all('h3', class_='name')"
   ]
  },
  {
   "cell_type": "code",
   "execution_count": 12,
   "id": "4d840974",
   "metadata": {},
   "outputs": [
    {
     "name": "stdout",
     "output_type": "stream",
     "text": [
      "[<h3 class=\"name\">Samsung Galaxy A12 - 6.5\" 48MP Camera, 4/64GB Memory, 5000maH Battery, Fingerprint, 4G LTE - BLACK</h3>, <h3 class=\"name\">Samsung Galaxy A12 - 6.5\" 48MP Camera, 4/64GB Memory, 5000maH Battery, Fingerprint, 4G LTE - RED</h3>, <h3 class=\"name\">Samsung Galaxy A03 Core, 2/32GB, 6.5\" Screen, 5000mah, 8MP Camera - Black</h3>, <h3 class=\"name\">Samsung Galaxy A02 - 3/64GB Memory, Dual Rear Camera, Dual SIM, 5,000Mah Battery, 4G LTE - Blue</h3>, <h3 class=\"name\">Samsung Galaxy A03s - 4/64GB Memory, Triple Rear Camera, Dual SIM, 5,000Mah Battery, Fingerprint, 4G LTE - Black</h3>, <h3 class=\"name\">Samsung Galaxy A03 Core - 6.5\" (2GB RAM, 32GB ROM) Android 11 - 8MP Rear + 5MP Selfie - 5000mAh - Dual Sim - 4G LTE - Black</h3>, <h3 class=\"name\">Samsung Galaxy A02 - 2/32GB Memory, Dual Rear Camera, Dual SIM, 5,000Mah Battery, 4G LTE - Red</h3>, <h3 class=\"name\">Samsung Galaxy Note 10 Plus (Note 10+) 6.8'' (12GB RAM, 256GB ROM),(12MP + 16MP) Nano SIM 4300 MAh Smart - Aura</h3>, <h3 class=\"name\">Samsung Galaxy S9 (4GBRAM+64GBROM) HD Display 4G LTE -Black. With Free Tempered Glass.</h3>, <h3 class=\"name\">Samsung Galaxy S9 Plus - Dual Sim - 6GB RAM - 64GB ROM Black.</h3>, <h3 class=\"name\">Samsung Galaxy S9 Plus (S9+) 6.2-Inch QHD (6GB, 64GB) Android 9.0  4G LTE Smartphone Midnight Black-with Free Tempered Glass.</h3>, <h3 class=\"name\">Samsung Galaxy A12(A125F/DS)- 6.5\" 48MP Camera, 4/64GB Memory, 5000maH Battery, Fingerprint, 4G LTE - BLACK</h3>, <h3 class=\"name\">Samsung Galaxy M32 - 6.5\" (6GB RAM, 128GB ROM) Android 11 (48/8/5/2)MP + 13MP Selfie - 5000mAh - 5G - Dual Sim - Sky Blue</h3>, <h3 class=\"name\">Samsung Galaxy Note 10 Plus (Note 10+) 6.8'' (12GB RAM, 256GB ROM),(12MP + 16MP) Nano SIM 4300 MAh Smart - Aura</h3>, <h3 class=\"name\">Samsung Galaxy S8 4gb Ram 64gb Rom , Android 8.0 Smartphone+ Free Screen Protector-black.</h3>, <h3 class=\"name\">Samsung Galaxy A11 - 6.4\" (2GB RAM, 32GB ROM) Android 10 (13/5/2)MP + 8MP Selfie - 4000mAh - 4G LTE - Dual - Fingerprint -Black</h3>, <h3 class=\"name\">Samsung Galaxy Note Edge 5.6\" 4G LTE Mobile Phone 16MP RAM 3GB ROM 32GB - White</h3>, <h3 class=\"name\">Samsung Galaxy A22, 6.4\" (4GB RAM, 128GB ROM) Android 11  - Dual SIM - 4G - 5000mAh - Black</h3>, <h3 class=\"name\">Samsung Galaxy A03 Core - 6.5\" (2GB RAM, 32GB ROM) Android 11 - 8MP Rear + 5MP Selfie - 5000mAh - Dual Sim - 4G LTE - Blue</h3>, <h3 class=\"name\">Samsung Galaxy S7 Edge 5.5\" (4GB, 32GB ROM) 12MP + 5MP Dual Sim - Gold +Free Pouch</h3>, <h3 class=\"name\">Samsung Galaxy Note 9 6.4\" (6GB RAM, 128GB ROM), Android 8.1 Oreo, 12MP + 12MP SINGLE    SIM - Purple</h3>, <h3 class=\"name\">Samsung Galaxy S8 Plus Dual Sim 4gb Ram 64gb Rom + Free Pouch &amp; Screen Guide.</h3>, <h3 class=\"name\">Samsung Galaxy A02 - 2/32GB Memory, Dual Rear Camera, Dual SIM, 5,000Mah Battery, 4G LTE - Black</h3>, <h3 class=\"name\">Samsung Galaxy S7 Edge 5.5\" (4GB, 32GB ROM) 12MP + 5MP Dual Sim - Gold +Free Pouch</h3>, <h3 class=\"name\">Samsung Galaxy A02 - 3/64GB Memory, Dual Rear Camera, Dual SIM, 5,000Mah Battery, 4G LTE - Black</h3>, <h3 class=\"name\">Samsung Galaxy Note 10 Plus (Note 10+) 6.8'' (12GB RAM, 256GB ROM),(12MP + 16MP) Nano SIM 4300 MAh Smart - Black</h3>, <h3 class=\"name\">Samsung Galaxy S9 5.8'' Inch QHD 2 Sim (duel Sim)( 4GB + 64GB ROM ) 12MP+8MP _ Midnight Black</h3>, <h3 class=\"name\">Samsung Galaxy A02 - 2/32GB Memory, Triple Rear Camera, Dual SIM, 5,000Mah Battery, 4G LTE - Red</h3>, <h3 class=\"name\">Samsung Galaxy S8 5.8-Inch QHD (4GB,64GB ROM) 12MP + 8MP 4G LTE Smartphone ( 1Sim ) Single Sim- Black</h3>, <h3 class=\"name\">Samsung Galaxy S9 - Dual Sim - 4gb Ram - 64gb Rom + Free Pouch &amp; Screen Guide And 10000 MAh Powerbank</h3>, <h3 class=\"name\">Samsung Galaxy S9 + (plus)Dual SIM (6GB,64GB ROM Android 8.0 Oreo. Midnight Black</h3>, <h3 class=\"name\">Samsung Galaxy S8 (4GB RAM,64GB ROM) - Purple With Free Glass</h3>, <h3 class=\"name\">Samsung Galaxy S7 4GB 32GB 5.1Inch 12MP Fingerprint Sensor—Gold</h3>, <h3 class=\"name\">Samsung Galaxy S20 Ultra LTE 128GB (12GB RAM) 5G  1 Sim   Black + Free Pouch &amp; Screen Protector</h3>, <h3 class=\"name\">Samsung Galaxy S7 4GB 32GB 5.1Inch 12MP Fingerprint Sensor—Gold</h3>, <h3 class=\"name\">Samsung Galaxy S8 5.8-Inch ( 2 Sim )QHD (4GB,64GB ROM) 12MP + 8MP 4G LTE Smartphone DUAL Sim - Midnight Black</h3>, <h3 class=\"name\">Samsung Galaxy S9 5.8-Inch QHD (4GB, 64GB ROM)12MP + 8MP 4G Smartphone Android 8.0 Midnight Black+ Free Screen Protector</h3>, <h3 class=\"name\">Samsung Galaxy S10 - Single Sim - 8gb Ram - 128gb Rom + Free Pouch, Screen Guide &amp; Torchlight Button Phone</h3>, <h3 class=\"name\">Samsung Galaxy S9 - Single Sim - 4gb Ram - 64gb Rom + Free Pouch &amp; Screen Guide, Rechargeable Light</h3>, <h3 class=\"name\">Samsung Note 8 6.3-Inch QHD (6GB,64GB ROM), (12MP + 12MP) + 8MP 4G LTE Smartphone Single Sim - Blue +Free Pouch</h3>, <h3 class=\"name\"></h3>, <h3 class=\"name\"></h3>, <h3 class=\"name\"></h3>, <h3 class=\"name\"></h3>, <h3 class=\"name\"></h3>, <h3 class=\"name\"></h3>, <h3 class=\"name\"></h3>, <h3 class=\"name\"></h3>]\n"
     ]
    }
   ],
   "source": [
    "print (samsung_name)"
   ]
  },
  {
   "cell_type": "code",
   "execution_count": 13,
   "id": "c603c9d8",
   "metadata": {},
   "outputs": [],
   "source": [
    "samsung_new_price = samsung_phone.find_all('div', class_='prc')"
   ]
  },
  {
   "cell_type": "code",
   "execution_count": 15,
   "id": "7eabda9b",
   "metadata": {},
   "outputs": [
    {
     "name": "stdout",
     "output_type": "stream",
     "text": [
      "[<div class=\"prc\">₦ 76,602</div>, <div class=\"prc\">₦ 79,000</div>, <div class=\"prc\">₦ 49,000</div>, <div class=\"prc\">₦ 61,999</div>, <div class=\"prc\">₦ 74,500</div>, <div class=\"prc\">₦ 52,990</div>, <div class=\"prc\">₦ 54,400</div>, <div class=\"prc\">₦ 280,000</div>, <div class=\"prc\">₦ 110,000</div>, <div class=\"prc\">₦ 150,000</div>, <div class=\"prc\">₦ 130,000</div>, <div class=\"prc\">₦ 83,990</div>, <div class=\"prc\">₦ 155,000</div>, <div class=\"prc\">₦ 275,000</div>, <div class=\"prc\">₦ 98,000</div>, <div class=\"prc\">₦ 65,000</div>, <div class=\"prc\">₦ 59,890</div>, <div class=\"prc\">₦ 129,500</div>, <div class=\"prc\">₦ 52,990</div>, <div class=\"prc\">₦ 85,000</div>, <div class=\"prc\">₦ 160,000</div>, <div class=\"prc\">₦ 116,500</div>, <div class=\"prc\">₦ 54,900</div>, <div class=\"prc\">₦ 85,000</div>, <div class=\"prc\">₦ 63,900</div>, <div class=\"prc\">₦ 275,000</div>, <div class=\"prc\">₦ 118,000</div>, <div class=\"prc\">₦ 57,000</div>, <div class=\"prc\">₦ 97,000</div>, <div class=\"prc\">₦ 117,000</div>, <div class=\"prc\">₦ 129,700</div>, <div class=\"prc\">₦ 98,000</div>, <div class=\"prc\">₦ 70,000</div>, <div class=\"prc\">₦ 370,000</div>, <div class=\"prc\">₦ 70,000</div>, <div class=\"prc\">₦ 100,000</div>, <div class=\"prc\">₦ 110,000</div>, <div class=\"prc\">₦ 190,000</div>, <div class=\"prc\">₦ 111,000</div>, <div class=\"prc\">₦ 130,000</div>, <div class=\"prc\"></div>, <div class=\"prc\"></div>, <div class=\"prc\"></div>, <div class=\"prc\"></div>, <div class=\"prc\"></div>, <div class=\"prc\"></div>, <div class=\"prc\"></div>, <div class=\"prc\"></div>]\n"
     ]
    }
   ],
   "source": [
    "print (samsung_new_price)"
   ]
  },
  {
   "cell_type": "code",
   "execution_count": 16,
   "id": "8a7528fe",
   "metadata": {},
   "outputs": [],
   "source": [
    "samsung_old_price = samsung_phone.find_all('div', class_='s-prc-w')"
   ]
  },
  {
   "cell_type": "code",
   "execution_count": 17,
   "id": "5c48a3ed",
   "metadata": {},
   "outputs": [
    {
     "name": "stdout",
     "output_type": "stream",
     "text": [
      "[<div class=\"s-prc-w\"><div class=\"old\">₦ 83,898</div><div class=\"tag _dsct _sm\">9%</div></div>, <div class=\"s-prc-w\"><div class=\"old\">₦ 56,000</div><div class=\"tag _dsct _sm\">13%</div></div>, <div class=\"s-prc-w\"><div class=\"old\">₦ 70,000</div><div class=\"tag _dsct _sm\">11%</div></div>, <div class=\"s-prc-w\"><div class=\"old\">₦ 77,000</div><div class=\"tag _dsct _sm\">3%</div></div>, <div class=\"s-prc-w\"><div class=\"old\">₦ 60,000</div><div class=\"tag _dsct _sm\">12%</div></div>, <div class=\"s-prc-w\"><div class=\"old\">₦ 60,000</div><div class=\"tag _dsct _sm\">9%</div></div>, <div class=\"s-prc-w\"><div class=\"old\">₦ 380,000</div><div class=\"tag _dsct _sm\">26%</div></div>, <div class=\"s-prc-w\"><div class=\"old\">₦ 155,000</div><div class=\"tag _dsct _sm\">3%</div></div>, <div class=\"s-prc-w\"><div class=\"old\">₦ 89,501</div><div class=\"tag _dsct _sm\">6%</div></div>, <div class=\"s-prc-w\"><div class=\"old\">₦ 350,000</div><div class=\"tag _dsct _sm\">21%</div></div>, <div class=\"s-prc-w\"><div class=\"old\">₦ 84,699</div><div class=\"tag _dsct _sm\">23%</div></div>, <div class=\"s-prc-w\"><div class=\"old\">₦ 59,900</div><div class=\"tag _dsct _sm\">1%</div></div>, <div class=\"s-prc-w\"><div class=\"old\">₦ 58,990</div><div class=\"tag _dsct _sm\">10%</div></div>, <div class=\"s-prc-w\"><div class=\"old\">₦ 150,000</div><div class=\"tag _dsct _sm\">43%</div></div>, <div class=\"s-prc-w\"><div class=\"old\">₦ 60,000</div><div class=\"tag _dsct _sm\">9%</div></div>, <div class=\"s-prc-w\"><div class=\"old\">₦ 150,000</div><div class=\"tag _dsct _sm\">43%</div></div>, <div class=\"s-prc-w\"><div class=\"old\">₦ 70,000</div><div class=\"tag _dsct _sm\">9%</div></div>, <div class=\"s-prc-w\"><div class=\"old\">₦ 350,000</div><div class=\"tag _dsct _sm\">21%</div></div>, <div class=\"s-prc-w\"><div class=\"old\">₦ 125,000</div><div class=\"tag _dsct _sm\">6%</div></div>, <div class=\"s-prc-w\"><div class=\"old\">₦ 106,000</div><div class=\"tag _dsct _sm\">8%</div></div>, <div class=\"s-prc-w\"><div class=\"old\">₦ 148,000</div><div class=\"tag _dsct _sm\">12%</div></div>, <div class=\"s-prc-w\"><div class=\"old\">₦ 120,000</div><div class=\"tag _dsct _sm\">42%</div></div>, <div class=\"s-prc-w\"><div class=\"old\">₦ 120,000</div><div class=\"tag _dsct _sm\">42%</div></div>, <div class=\"s-prc-w\"><div class=\"old\">₦ 120,000</div><div class=\"tag _dsct _sm\">17%</div></div>, <div class=\"s-prc-w\"><div class=\"old\">₦ 200,000</div><div class=\"tag _dsct _sm\">5%</div></div>, <div class=\"s-prc-w\"><div class=\"old\">₦ 200,000</div><div class=\"tag _dsct _sm\">35%</div></div>]\n"
     ]
    }
   ],
   "source": [
    "print (samsung_old_price)"
   ]
  },
  {
   "cell_type": "code",
   "execution_count": 18,
   "id": "80348e90",
   "metadata": {},
   "outputs": [],
   "source": [
    "samsung_old_price_no_percentage = samsung_phone.find_all('div', class_= 'old')"
   ]
  },
  {
   "cell_type": "code",
   "execution_count": 19,
   "id": "d4fc14dd",
   "metadata": {},
   "outputs": [
    {
     "name": "stdout",
     "output_type": "stream",
     "text": [
      "[<div class=\"old\">₦ 83,898</div>, <div class=\"old\">₦ 56,000</div>, <div class=\"old\">₦ 70,000</div>, <div class=\"old\">₦ 77,000</div>, <div class=\"old\">₦ 60,000</div>, <div class=\"old\">₦ 60,000</div>, <div class=\"old\">₦ 380,000</div>, <div class=\"old\">₦ 155,000</div>, <div class=\"old\">₦ 89,501</div>, <div class=\"old\">₦ 350,000</div>, <div class=\"old\">₦ 84,699</div>, <div class=\"old\">₦ 59,900</div>, <div class=\"old\">₦ 58,990</div>, <div class=\"old\">₦ 150,000</div>, <div class=\"old\">₦ 60,000</div>, <div class=\"old\">₦ 150,000</div>, <div class=\"old\">₦ 70,000</div>, <div class=\"old\">₦ 350,000</div>, <div class=\"old\">₦ 125,000</div>, <div class=\"old\">₦ 106,000</div>, <div class=\"old\">₦ 148,000</div>, <div class=\"old\">₦ 120,000</div>, <div class=\"old\">₦ 120,000</div>, <div class=\"old\">₦ 120,000</div>, <div class=\"old\">₦ 200,000</div>, <div class=\"old\">₦ 200,000</div>]\n"
     ]
    }
   ],
   "source": [
    "print (samsung_old_price_no_percentage)"
   ]
  },
  {
   "cell_type": "code",
   "execution_count": 20,
   "id": "83ed1d48",
   "metadata": {},
   "outputs": [],
   "source": [
    "samsung_discount_percentage = samsung_phone.find_all('div', class_='tag _dsct _sm')"
   ]
  },
  {
   "cell_type": "code",
   "execution_count": 21,
   "id": "a898c583",
   "metadata": {},
   "outputs": [
    {
     "name": "stdout",
     "output_type": "stream",
     "text": [
      "[<div class=\"tag _dsct _sm\">9%</div>, <div class=\"tag _dsct _sm\">13%</div>, <div class=\"tag _dsct _sm\">11%</div>, <div class=\"tag _dsct _sm\">3%</div>, <div class=\"tag _dsct _sm\">12%</div>, <div class=\"tag _dsct _sm\">9%</div>, <div class=\"tag _dsct _sm\">26%</div>, <div class=\"tag _dsct _sm\">3%</div>, <div class=\"tag _dsct _sm\">6%</div>, <div class=\"tag _dsct _sm\">21%</div>, <div class=\"tag _dsct _sm\">23%</div>, <div class=\"tag _dsct _sm\">1%</div>, <div class=\"tag _dsct _sm\">10%</div>, <div class=\"tag _dsct _sm\">43%</div>, <div class=\"tag _dsct _sm\">9%</div>, <div class=\"tag _dsct _sm\">43%</div>, <div class=\"tag _dsct _sm\">9%</div>, <div class=\"tag _dsct _sm\">21%</div>, <div class=\"tag _dsct _sm\">6%</div>, <div class=\"tag _dsct _sm\">8%</div>, <div class=\"tag _dsct _sm\">12%</div>, <div class=\"tag _dsct _sm\">42%</div>, <div class=\"tag _dsct _sm\">42%</div>, <div class=\"tag _dsct _sm\">17%</div>, <div class=\"tag _dsct _sm\">5%</div>, <div class=\"tag _dsct _sm\">35%</div>]\n"
     ]
    }
   ],
   "source": [
    "print (samsung_discount_percentage)"
   ]
  },
  {
   "cell_type": "code",
   "execution_count": null,
   "id": "61d8db1c",
   "metadata": {},
   "outputs": [],
   "source": []
  }
 ],
 "metadata": {
  "kernelspec": {
   "display_name": "Python 3 (ipykernel)",
   "language": "python",
   "name": "python3"
  },
  "language_info": {
   "codemirror_mode": {
    "name": "ipython",
    "version": 3
   },
   "file_extension": ".py",
   "mimetype": "text/x-python",
   "name": "python",
   "nbconvert_exporter": "python",
   "pygments_lexer": "ipython3",
   "version": "3.9.7"
  }
 },
 "nbformat": 4,
 "nbformat_minor": 5
}
